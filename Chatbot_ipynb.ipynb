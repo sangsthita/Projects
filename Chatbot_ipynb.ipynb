{
  "cells": [
    {
      "cell_type": "code",
      "execution_count": null,
      "metadata": {
        "id": "THR6SxMqrcoQ"
      },
      "outputs": [],
      "source": [
        "import numpy as np\n",
        "import nltk\n",
        "import string\n",
        "import random\n",
        "import warnings\n",
        "import pandas as pd\n",
        "from sklearn.feature_extraction.text import TfidfVectorizer\n",
        "from sklearn.metrics.pairwise import cosine_similarity"
      ]
    },
    {
      "cell_type": "code",
      "execution_count": null,
      "metadata": {
        "colab": {
          "base_uri": "https://localhost:8080/"
        },
        "id": "DUZHmlFtrgVb",
        "outputId": "ea66d8e9-63bd-4a66-d309-8f72b78ae2fb"
      },
      "outputs": [
        {
          "name": "stderr",
          "output_type": "stream",
          "text": [
            "[nltk_data] Downloading package punkt to /root/nltk_data...\n",
            "[nltk_data]   Unzipping tokenizers/punkt.zip.\n",
            "[nltk_data] Downloading package wordnet to /root/nltk_data...\n"
          ]
        }
      ],
      "source": [
        " nltk.download('punkt')\n",
        "nltk.download('wordnet')\n",
        "warnings.filterwarnings(\"ignore\")"
      ]
    },
    {
      "cell_type": "code",
      "execution_count": null,
      "metadata": {
        "id": "pRXwaOV9rizL"
      },
      "outputs": [],
      "source": [
        "# Step 1: Read the CSV file\n",
        "df = pd.read_csv(r'/content/dataset.csv')\n"
      ]
    },
    {
      "cell_type": "code",
      "execution_count": null,
      "metadata": {
        "id": "FtBk_6IMrrT6"
      },
      "outputs": [],
      "source": [
        "# Step 2: Preprocess the data\n",
        "def preprocess_text(text):\n",
        "    tokens = nltk.word_tokenize(text)\n",
        "    tokens = [word.lower() for word in tokens if word.isalnum()]\n",
        "    lemmer = nltk.stem.WordNetLemmatizer()\n",
        "    tokens = [lemmer.lemmatize(word) for word in tokens]\n",
        "    return ' '.join(tokens)\n",
        "\n",
        "# Assuming 'symptoms' and 'disease' columns exist in your CSV file\n",
        "df['preprocessed_symptoms'] = df['symptoms'].apply(preprocess_text)"
      ]
    },
    {
      "cell_type": "code",
      "execution_count": null,
      "metadata": {
        "id": "8W1VXklIsBe8"
      },
      "outputs": [],
      "source": [
        "# Step 3: Train the machine learning model\n",
        "tfidf_vectorizer = TfidfVectorizer()\n",
        "symptoms_tfidf = tfidf_vectorizer.fit_transform(df['preprocessed_symptoms'])"
      ]
    },
    {
      "cell_type": "code",
      "execution_count": null,
      "metadata": {
        "id": "v59y15FtsFUU"
      },
      "outputs": [],
      "source": [
        "# Step 4: Implement the AI response system\n",
        "def predict_disease(symptoms):\n",
        "    preprocessed_input = preprocess_text(symptoms)\n",
        "    input_tfidf = tfidf_vectorizer.transform([preprocessed_input])\n",
        "    similarity_scores = cosine_similarity(input_tfidf, symptoms_tfidf)\n",
        "    ranked_indices = np.argsort(similarity_scores)[0][::-1]  # Sort indices in descending order of similarity\n",
        "    top_diseases = {}\n",
        "    for idx in ranked_indices:\n",
        "        disease = df['disease'].iloc[idx]\n",
        "        if len(top_diseases) < 3:\n",
        "            if disease not in top_diseases:\n",
        "                top_diseases[disease] = similarity_scores[0][idx]\n",
        "        else:\n",
        "            break\n",
        "    return top_diseases"
      ]
    },
    {
      "cell_type": "code",
      "execution_count": null,
      "metadata": {
        "id": "BvibJJmmsMX6"
      },
      "outputs": [],
      "source": [
        "# Initialize the chatbot\n",
        "def chat():\n",
        "    print(\"Hello! How can I assist you today?\")\n",
        "    print(\"1. Book an appointment\")\n",
        "    print(\"2. Ask the AI about your symptoms\")\n",
        "    print(\"3. Provide feedback\")\n",
        "    print(\"4. Exit\")\n",
        "    while True:\n",
        "        user_response = input(\"Please enter your choice: \")\n",
        "        if user_response == '1':\n",
        "            print(\"You have chosen to book an appointment. Please visit our website to book.\")\n",
        "        elif user_response == '2':\n",
        "            symptoms = input(\"Please describe your symptoms: \")\n",
        "            top_diseases = predict_disease(symptoms)\n",
        "            print(\"Top diseases based on your symptoms:\")\n",
        "            for disease, score in top_diseases.items():\n",
        "                cures = ', '.join(df[df['disease'] == disease]['cures'].values)\n",
        "                print(f\"{disease} (Similarity Score: {score})\")\n",
        "                print(f\"   Cures: {cures}\")\n",
        "        elif user_response == '3':\n",
        "            feedback = input(\"Please provide your feedback: \")\n",
        "            print(\"Thank you for your feedback! We will use it to improve our services.\")\n",
        "        elif user_response == '4':\n",
        "            print(\"Goodbye!\")\n",
        "            break\n",
        "        else:\n",
        "            print(\"Invalid choice. Please enter a number from 1 to 4.\")\n"
      ]
    },
    {
      "cell_type": "code",
      "execution_count": null,
      "metadata": {
        "colab": {
          "background_save": true,
          "base_uri": "https://localhost:8080/"
        },
        "id": "F67aZdS-sQeu",
        "outputId": "65933284-433a-41bb-a4d0-7928447d0d81"
      },
      "outputs": [
        {
          "name": "stdout",
          "output_type": "stream",
          "text": [
            "Hello! How can I assist you today?\n",
            "1. Book an appointment\n",
            "2. Ask the AI about your symptoms\n",
            "3. Provide feedback\n",
            "4. Exit\n",
            "You have chosen to book an appointment. Please visit our website to book.\n",
            "Invalid choice. Please enter a number from 1 to 4.\n",
            "Invalid choice. Please enter a number from 1 to 4.\n",
            "Invalid choice. Please enter a number from 1 to 4.\n"
          ]
        }
      ],
      "source": [
        "# Main function to initiate the chat\n",
        "if __name__ == \"__main__\":\n",
        "    chat()"
      ]
    },
    {
      "cell_type": "code",
      "execution_count": null,
      "metadata": {
        "id": "ddu6oJXKWNo-"
      },
      "outputs": [],
      "source": []
    }
  ],
  "metadata": {
    "colab": {
      "provenance": []
    },
    "kernelspec": {
      "display_name": "Python 3",
      "name": "python3"
    },
    "language_info": {
      "name": "python"
    }
  },
  "nbformat": 4,
  "nbformat_minor": 0
}