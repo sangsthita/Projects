{
  "nbformat": 4,
  "nbformat_minor": 0,
  "metadata": {
    "colab": {
      "provenance": []
    },
    "kernelspec": {
      "name": "python3",
      "display_name": "Python 3"
    },
    "language_info": {
      "name": "python"
    }
  },
  "cells": [
    {
      "cell_type": "code",
      "execution_count": 1,
      "metadata": {
        "id": "r6xj7rpyvqUl"
      },
      "outputs": [],
      "source": [
        "# Importing Modules\n",
        "import cv2\n",
        "import numpy as np\n",
        "import os\n",
        "from tqdm import tqdm\n"
      ]
    },
    {
      "cell_type": "code",
      "source": [
        "def Crete_Folder_Images(name, directory, tn):\n",
        "   # Creating directory in the file\n",
        "    if not os.path.exists(directory):\n",
        "        os.makedirs(directory)\n",
        "    else:\n",
        "        print('DIRECTORY with name %s EXIST'%name)"
      ],
      "metadata": {
        "id": "OpbaO8Xtw8q2"
      },
      "execution_count": 2,
      "outputs": []
    },
    {
      "cell_type": "code",
      "source": [
        "# Opening vedio mode with frontal face detector\n",
        "faceDetect=cv2.CascadeClassifier(cv2.data.haarcascades + \"haarcascade_frontalface_default.xml\")\n",
        "    #cv2.CascadeClassifier('haarcascade_frontalface_default.xml');\n",
        "cam=cv2.VideoCapture(0)\n",
        "size =(100, 100)"
      ],
      "metadata": {
        "id": "ZtsrlBhdxMr8"
      },
      "execution_count": 3,
      "outputs": []
    },
    {
      "cell_type": "code",
      "source": [
        "tn = 0\n",
        "for i in tqdm(range(1, 1+ tn)):\n",
        "        ret,img=cam.read()\n",
        "        gray=cv2.cvtColor(img,cv2.COLOR_BGR2GRAY)  #for GRAY SCALE IMAGES\n",
        "        faces=faceDetect.detectMultiScale(gray,1.3,5)\n",
        "        # faces=faceDetect.detectMultiScale(img,1.3,5)    # FOR COLOR IMAGES\n",
        "        for(x,y,w,h) in faces:\n",
        "            res = cv2.resize(gray[y:y+h,x:x+w], size, interpolation = cv2.INTER_AREA)\n",
        "            cv2.imwrite('Datasets/'+str(name)+'/'+str(name)+'_'+str(i)+'.jpg', res)  #for GRAY SCALE IMAGES\n",
        "             # cv2.imwrite(directory+'/'+str(name)+'-'+str(sn)+'.jpg'\n",
        "            #             ,img[y:y+h,x:x+w])  # FOR COLOR IMAGES\n",
        "            cv2.rectangle(img,(x,y),(x+w,y+h),(0,0,255),2)\n",
        "            cv2.waitKey(200)\n",
        "        cv2.imshow('DAtaset Creator',img)\n",
        "        cv2.waitKey(1)\n",
        "cam.release()\n",
        "cv2.destroyAllWindows()\n",
        "print('TASK COMPLETED')\n"
      ],
      "metadata": {
        "id": "oHOOKw84xgIl",
        "colab": {
          "base_uri": "https://localhost:8080/"
        },
        "outputId": "ceb6a5d0-191e-4071-deb6-d92408693039"
      },
      "execution_count": 4,
      "outputs": [
        {
          "output_type": "stream",
          "name": "stderr",
          "text": [
            "0it [00:00, ?it/s]"
          ]
        },
        {
          "output_type": "stream",
          "name": "stdout",
          "text": [
            "TASK COMPLETED\n"
          ]
        },
        {
          "output_type": "stream",
          "name": "stderr",
          "text": [
            "\n"
          ]
        }
      ]
    },
    {
      "cell_type": "code",
      "source": [
        "name=input('\\nEnter your name: ')\n",
        "\n",
        "directory='Datasets/'+name\n",
        "tn= int(input('Enter no.of images to be taken: '))\n",
        "Crete_Folder_Images(name, directory, tn)"
      ],
      "metadata": {
        "id": "mclGtfMZ6hVD"
      },
      "execution_count": null,
      "outputs": []
    },
    {
      "cell_type": "code",
      "source": [
        "from IPython.display import display, Javascript\n",
        "from google.colab.output import eval_js\n",
        "from base64 import b64decode\n",
        "\n",
        "def take_photo(filename='photo.jpg', quality=0.8):\n",
        "  js = Javascript('''\n",
        "    async function takePhoto(quality) {\n",
        "      const div = document.createElement('div');\n",
        "      const capture = document.createElement('button');\n",
        "      capture.textContent = 'Capture';\n",
        "      div.appendChild(capture);\n",
        "\n",
        "      const video = document.createElement('video');\n",
        "      video.style.display = 'block';\n",
        "      const stream = await navigator.mediaDevices.getUserMedia({video: true});\n",
        "\n",
        "      document.body.appendChild(div);\n",
        "      div.appendChild(video);\n",
        "      video.srcObject = stream;\n",
        "      await video.play();\n",
        "\n",
        "      // Resize the output to fit the video element.\n",
        "      google.colab.output.setIframeHeight(document.documentElement.scrollHeight, true);\n",
        "\n",
        "      // Wait for Capture to be clicked.\n",
        "      await new Promise((resolve) => capture.onclick = resolve);\n",
        "\n",
        "      const canvas = document.createElement('canvas');\n",
        "      canvas.width = video.videoWidth;\n",
        "      canvas.height = video.videoHeight;\n",
        "      canvas.getContext('2d').drawImage(video, 0, 0);\n",
        "      stream.getVideoTracks()[0].stop();\n",
        "      div.remove();\n",
        "      return canvas.toDataURL('image/jpeg', quality);\n",
        "    }\n",
        "    ''')\n",
        "  display(js)\n",
        "  data = eval_js('takePhoto({})'.format(quality))\n",
        "  binary = b64decode(data.split(',')[1])\n",
        "  with open(filename, 'wb') as f:\n",
        "    f.write(binary)\n",
        "  return filename"
      ],
      "metadata": {
        "id": "YsM8mB18DbEB"
      },
      "execution_count": null,
      "outputs": []
    },
    {
      "cell_type": "code",
      "source": [
        "from IPython.display import Image\n",
        "try:\n",
        "  filename = take_photo()\n",
        "  print('Saved to {}'.format(filename))\n",
        "\n",
        "  # Show the image which was just taken.\n",
        "  display(Image(filename))\n",
        "except Exception as err:\n",
        "  # Errors will be thrown if the user does not have a webcam or if they do not\n",
        "  # grant the page permission to access it.\n",
        "  print(str(err))"
      ],
      "metadata": {
        "id": "s6cXHUYaDbEI"
      },
      "execution_count": null,
      "outputs": []
    },
    {
      "cell_type": "code",
      "source": [],
      "metadata": {
        "id": "-QYown7Ebu4j"
      },
      "execution_count": null,
      "outputs": []
    }
  ]
}